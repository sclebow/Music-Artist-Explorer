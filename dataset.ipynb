{
 "cells": [
  {
   "cell_type": "code",
   "execution_count": 8,
   "id": "a7738116",
   "metadata": {},
   "outputs": [],
   "source": [
    "import pandas as pd"
   ]
  },
  {
   "cell_type": "code",
   "execution_count": 9,
   "id": "dc71c6e6",
   "metadata": {},
   "outputs": [],
   "source": [
    "# This script creates a dataset from the wikipedia dataset that can be used to create a graph\n",
    "\n",
    "df = pd.read_csv('wikipedia_music.csv')\n",
    "\n",
    "# Filter rows with non-null 'MENTIONED_ARTISTS'\n",
    "df = df.dropna(subset=['MENTIONED_ARTISTS'])\n",
    "\n",
    "# Extract relevant columns\n",
    "artist_names = df['ARTIST_NAME'].values\n",
    "mentioned_artists = df['MENTIONED_ARTISTS'].values\n",
    "\n",
    "total_rows = len(df)\n",
    "\n",
    "# Initialize a list to store results\n",
    "data = []"
   ]
  },
  {
   "cell_type": "code",
   "execution_count": 12,
   "id": "89677d75",
   "metadata": {},
   "outputs": [],
   "source": [
    "# Process data efficiently\n",
    "for artist_name, mentioned_artists_str in zip(artist_names, mentioned_artists):\n",
    "    try:\n",
    "        # Split the string into a list of artists and counts\n",
    "        mentioned_artists_and_counts = mentioned_artists_str.split(';')\n",
    "        for mentioned_artist_and_count in mentioned_artists_and_counts:\n",
    "            # Split the artist name and the count\n",
    "            mentioned_artist, count = mentioned_artist_and_count.rsplit(':', 1)\n",
    "            data.append((artist_name, mentioned_artist, int(count)))\n",
    "    except Exception as e:\n",
    "        print(f\"Error processing: {mentioned_artists_str}\")\n",
    "        print(e)"
   ]
  },
  {
   "cell_type": "code",
   "execution_count": 11,
   "id": "cdb55b1f",
   "metadata": {},
   "outputs": [
    {
     "name": "stdout",
     "output_type": "stream",
     "text": [
      "  source           target  number_of_mentions\n",
      "0    !!!      Cake (band)                   1\n",
      "1    !!!  LCD Soundsystem                   1\n",
      "2    !!!        Nate Dogg                   1\n",
      "3    !!!        Nic Offer                   6\n",
      "4    !!!          Out Hud                   3\n",
      "Number of rows: 280923\n"
     ]
    }
   ],
   "source": [
    "# Convert results to a DataFrame\n",
    "out_df = pd.DataFrame(data, columns=['source', 'target', 'number_of_mentions'])\n",
    "\n",
    "# Remove duplicates and aggregate counts\n",
    "out_df = out_df.groupby(['source', 'target'], as_index=False).sum()\n",
    "\n",
    "# Print results\n",
    "print(out_df.head())\n",
    "print(f'Number of rows: {len(out_df)}')"
   ]
  },
  {
   "cell_type": "code",
   "execution_count": 13,
   "id": "cec3401c",
   "metadata": {},
   "outputs": [],
   "source": [
    "# Output the DataFrame to a CSV file\n",
    "out_df.to_csv('wikipedia_music_graph.csv', index=False)"
   ]
  }
 ],
 "metadata": {
  "kernelspec": {
   "display_name": "Python 3",
   "language": "python",
   "name": "python3"
  },
  "language_info": {
   "codemirror_mode": {
    "name": "ipython",
    "version": 3
   },
   "file_extension": ".py",
   "mimetype": "text/x-python",
   "name": "python",
   "nbconvert_exporter": "python",
   "pygments_lexer": "ipython3",
   "version": "3.13.2"
  }
 },
 "nbformat": 4,
 "nbformat_minor": 5
}
